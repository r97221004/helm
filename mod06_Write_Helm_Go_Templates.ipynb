{
 "cells": [
  {
   "cell_type": "code",
   "execution_count": null,
   "id": "36d24482",
   "metadata": {},
   "outputs": [],
   "source": [
    "cd /kube-prometheus-stack"
   ]
  },
  {
   "cell_type": "code",
   "execution_count": null,
   "id": "1ee0cbcc",
   "metadata": {},
   "outputs": [],
   "source": [
    "ls"
   ]
  },
  {
   "cell_type": "markdown",
   "id": "2d78a23c",
   "metadata": {},
   "source": [
    "回到目錄 my-cluster-config"
   ]
  },
  {
   "cell_type": "markdown",
   "id": "dde06a61",
   "metadata": {},
   "source": [
    "---"
   ]
  },
  {
   "cell_type": "code",
   "execution_count": null,
   "id": "9f819b58",
   "metadata": {},
   "outputs": [],
   "source": [
    "helm create fleetman-helm-chart"
   ]
  },
  {
   "cell_type": "code",
   "execution_count": null,
   "id": "845c52cc",
   "metadata": {},
   "outputs": [],
   "source": [
    "cd fleetman-helm-chart"
   ]
  },
  {
   "cell_type": "code",
   "execution_count": null,
   "id": "e39e281f",
   "metadata": {},
   "outputs": [],
   "source": [
    "ls fleetman-helm-chart"
   ]
  },
  {
   "cell_type": "code",
   "execution_count": null,
   "id": "37f27fe2",
   "metadata": {},
   "outputs": [],
   "source": [
    "code ."
   ]
  },
  {
   "cell_type": "markdown",
   "id": "4595427d",
   "metadata": {},
   "source": [
    "### 刪除 templates 裡面的所有檔案 注意 templates 裡面的檔案都會被轉成 k8s yaml"
   ]
  },
  {
   "cell_type": "raw",
   "id": "0f8eb389",
   "metadata": {},
   "source": [
    "在 templates 加入檔案 one.yaml 且順便也把 values.yaml 給清空"
   ]
  },
  {
   "cell_type": "markdown",
   "id": "da9e961c",
   "metadata": {},
   "source": [
    "one.yaml"
   ]
  },
  {
   "cell_type": "code",
   "execution_count": null,
   "id": "830d5496",
   "metadata": {},
   "outputs": [],
   "source": [
    "hello:\n",
    "  world: true"
   ]
  },
  {
   "cell_type": "code",
   "execution_count": null,
   "id": "6a359af2",
   "metadata": {},
   "outputs": [],
   "source": [
    "cd ~/my-cluster-config/fleetman-helm-chart"
   ]
  },
  {
   "cell_type": "code",
   "execution_count": null,
   "id": "1960ece0",
   "metadata": {},
   "outputs": [],
   "source": [
    "helm template ."
   ]
  },
  {
   "cell_type": "markdown",
   "id": "5ee6b4e8",
   "metadata": {},
   "source": [
    "---"
   ]
  },
  {
   "cell_type": "raw",
   "id": "9590d496",
   "metadata": {},
   "source": [
    "在 templates 加入檔案 two.yaml "
   ]
  },
  {
   "cell_type": "markdown",
   "id": "19542497",
   "metadata": {},
   "source": [
    "two.yaml"
   ]
  },
  {
   "cell_type": "code",
   "execution_count": null,
   "id": "62707519",
   "metadata": {},
   "outputs": [],
   "source": [
    "something:\n",
    "  name: matt"
   ]
  },
  {
   "cell_type": "code",
   "execution_count": null,
   "id": "3ae6695a",
   "metadata": {},
   "outputs": [],
   "source": [
    "helm template ."
   ]
  },
  {
   "cell_type": "markdown",
   "id": "efefa7dc",
   "metadata": {},
   "source": [
    "---"
   ]
  },
  {
   "cell_type": "markdown",
   "id": "effb8f02",
   "metadata": {},
   "source": [
    "修改 one.yaml"
   ]
  },
  {
   "cell_type": "code",
   "execution_count": null,
   "id": "58c8a310",
   "metadata": {},
   "outputs": [],
   "source": [
    "hello:\n",
    "  world: {{ printf \"true\" }}"
   ]
  },
  {
   "cell_type": "code",
   "execution_count": null,
   "id": "959b50ce",
   "metadata": {},
   "outputs": [],
   "source": [
    "helm template ."
   ]
  },
  {
   "cell_type": "markdown",
   "id": "a7ec4aed",
   "metadata": {},
   "source": [
    "---"
   ]
  },
  {
   "cell_type": "raw",
   "id": "e5189aae",
   "metadata": {},
   "source": [
    "刪除 one.yaml 與 tow.yaml 加入 fleetman-full.yaml"
   ]
  },
  {
   "cell_type": "raw",
   "id": "6b15da4d",
   "metadata": {},
   "source": [
    "fleetman-full.yaml"
   ]
  },
  {
   "cell_type": "code",
   "execution_count": null,
   "id": "474fb047",
   "metadata": {},
   "outputs": [],
   "source": [
    "apiVersion: apps/v1\n",
    "kind: Deployment\n",
    "metadata:\n",
    "  name: webapp\n",
    "spec:\n",
    "  selector:\n",
    "    matchLabels:\n",
    "      app: webapp\n",
    "  replicas: 1\n",
    "  template: # template for the pods\n",
    "    metadata:\n",
    "      labels:\n",
    "        app: webapp\n",
    "    spec:\n",
    "      containers:\n",
    "      - name: webapp\n",
    "        # Note to deployer - add -dev at the end of here for development version\n",
    "        image: richardchesterwood/k8s-fleetman-helm-demo:v1.0.0\n",
    "---\n",
    "apiVersion: v1\n",
    "kind: Service\n",
    "metadata:\n",
    "  name: fleetman-webapp\n",
    "\n",
    "spec:\n",
    "  selector:\n",
    "    app: webapp\n",
    "\n",
    "  ports:\n",
    "    - name: http\n",
    "      port: 80\n",
    "      nodePort: 30080\n",
    "\n",
    "  type: NodePort"
   ]
  },
  {
   "cell_type": "code",
   "execution_count": null,
   "id": "4b690312",
   "metadata": {},
   "outputs": [],
   "source": [
    "helm template ."
   ]
  },
  {
   "cell_type": "markdown",
   "id": "e96f6dc1",
   "metadata": {},
   "source": [
    "---"
   ]
  },
  {
   "cell_type": "markdown",
   "id": "f2375181",
   "metadata": {},
   "source": [
    "dynamic go action"
   ]
  },
  {
   "cell_type": "code",
   "execution_count": null,
   "id": "4985376d",
   "metadata": {},
   "outputs": [],
   "source": [
    "fleetman-full.yaml"
   ]
  },
  {
   "cell_type": "code",
   "execution_count": null,
   "id": "f1967442",
   "metadata": {},
   "outputs": [],
   "source": [
    "apiVersion: apps/v1\n",
    "kind: Deployment\n",
    "metadata:\n",
    "  name: webapp\n",
    "spec:\n",
    "  selector:\n",
    "    matchLabels:\n",
    "      app: webapp\n",
    "  replicas: {{ .Values.webapp.numberofWebAppReplicas }}\n",
    "  template: # template for the pods\n",
    "    metadata:\n",
    "      labels:\n",
    "        app: webapp\n",
    "    spec:\n",
    "      containers:\n",
    "      - name: webapp\n",
    "        # Note to deployer - add -dev at the end of here for development version\n",
    "        image: richardchesterwood/k8s-fleetman-helm-demo:v1.0.0\n",
    "---\n",
    "apiVersion: v1\n",
    "kind: Service\n",
    "metadata:\n",
    "  name: fleetman-webapp\n",
    "\n",
    "spec:\n",
    "  selector:\n",
    "    app: webapp\n",
    "\n",
    "  ports:\n",
    "    - name: http\n",
    "      port: 80\n",
    "      nodePort: 30080\n",
    "\n",
    "  type: NodePort"
   ]
  },
  {
   "cell_type": "raw",
   "id": "79bdf1fd",
   "metadata": {},
   "source": [
    "values.yaml"
   ]
  },
  {
   "cell_type": "code",
   "execution_count": null,
   "id": "3cabcc40",
   "metadata": {},
   "outputs": [],
   "source": [
    "webapp:\n",
    "  numberofWebAppReplicas: 4"
   ]
  },
  {
   "cell_type": "code",
   "execution_count": null,
   "id": "2513e5c2",
   "metadata": {},
   "outputs": [],
   "source": [
    "helm template . "
   ]
  },
  {
   "cell_type": "markdown",
   "id": "e15109f6",
   "metadata": {},
   "source": [
    "---"
   ]
  },
  {
   "cell_type": "raw",
   "id": "4fe2fa59",
   "metadata": {},
   "source": [
    "如果有使用長選項 set， set 會優先。"
   ]
  },
  {
   "cell_type": "code",
   "execution_count": null,
   "id": "a6e4b0f5",
   "metadata": {},
   "outputs": [],
   "source": [
    "helm template . --set webapp.numberofWebAppReplicas=127"
   ]
  }
 ],
 "metadata": {
  "kernelspec": {
   "display_name": "Python 3",
   "language": "python",
   "name": "python3"
  },
  "language_info": {
   "codemirror_mode": {
    "name": "ipython",
    "version": 3
   },
   "file_extension": ".py",
   "mimetype": "text/x-python",
   "name": "python",
   "nbconvert_exporter": "python",
   "pygments_lexer": "ipython3",
   "version": "3.8.10"
  }
 },
 "nbformat": 4,
 "nbformat_minor": 5
}

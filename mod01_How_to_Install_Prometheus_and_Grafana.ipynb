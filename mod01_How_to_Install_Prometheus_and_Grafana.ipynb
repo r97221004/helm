{
 "cells": [
  {
   "cell_type": "code",
   "execution_count": null,
   "id": "76fd0056",
   "metadata": {},
   "outputs": [],
   "source": [
    "helm repo add prometheus-community https://prometheus-community.github.io/helm-charts"
   ]
  },
  {
   "cell_type": "code",
   "execution_count": null,
   "id": "cc9f9903",
   "metadata": {},
   "outputs": [],
   "source": [
    "helm repo list"
   ]
  },
  {
   "cell_type": "code",
   "execution_count": null,
   "id": "bd744699",
   "metadata": {},
   "outputs": [],
   "source": [
    "helm repo update"
   ]
  },
  {
   "cell_type": "markdown",
   "id": "46ff3ab3",
   "metadata": {},
   "source": [
    "---"
   ]
  },
  {
   "cell_type": "code",
   "execution_count": null,
   "id": "83fcb139",
   "metadata": {},
   "outputs": [],
   "source": [
    "helm install monitoring prometheus-community/kube-prometheus-stack"
   ]
  },
  {
   "cell_type": "code",
   "execution_count": null,
   "id": "f1285a75",
   "metadata": {},
   "outputs": [],
   "source": [
    "helm list"
   ]
  },
  {
   "cell_type": "code",
   "execution_count": null,
   "id": "57862c59",
   "metadata": {},
   "outputs": [],
   "source": [
    "kubectl get pods"
   ]
  },
  {
   "cell_type": "code",
   "execution_count": null,
   "id": "8ef8e0e3",
   "metadata": {},
   "outputs": [],
   "source": [
    "kubectl get service"
   ]
  },
  {
   "cell_type": "markdown",
   "id": "766ee64e",
   "metadata": {},
   "source": [
    "---"
   ]
  },
  {
   "cell_type": "markdown",
   "id": "b599be57",
   "metadata": {},
   "source": [
    "將 grafana 的服務改成 type = NodePort 且 NodePort = 30001"
   ]
  },
  {
   "cell_type": "code",
   "execution_count": null,
   "id": "06c82c13",
   "metadata": {},
   "outputs": [],
   "source": [
    "kubectl edit service monitoring "
   ]
  },
  {
   "cell_type": "code",
   "execution_count": null,
   "id": "f042f213",
   "metadata": {},
   "outputs": [],
   "source": [
    "kubectl get service"
   ]
  },
  {
   "cell_type": "code",
   "execution_count": null,
   "id": "102ced92",
   "metadata": {},
   "outputs": [],
   "source": [
    "minikube ip"
   ]
  },
  {
   "cell_type": "code",
   "execution_count": null,
   "id": "bf738b3e",
   "metadata": {},
   "outputs": [],
   "source": [
    "http://minikube_ip:30001"
   ]
  },
  {
   "cell_type": "markdown",
   "id": "f63c70ad",
   "metadata": {},
   "source": [
    "------"
   ]
  },
  {
   "cell_type": "markdown",
   "id": "42e4104c",
   "metadata": {},
   "source": [
    "輸入帳號 admin 密碼 admin 試試看"
   ]
  },
  {
   "cell_type": "code",
   "execution_count": null,
   "id": "606e9f86",
   "metadata": {},
   "outputs": [],
   "source": [
    "helm show values prometheus-community/kube-prometheus-stack > values.yaml"
   ]
  },
  {
   "cell_type": "code",
   "execution_count": null,
   "id": "25da3b77",
   "metadata": {},
   "outputs": [],
   "source": [
    "vim values.yaml"
   ]
  },
  {
   "cell_type": "markdown",
   "id": "1cd5f6c0",
   "metadata": {},
   "source": [
    "搜尋 password"
   ]
  },
  {
   "cell_type": "code",
   "execution_count": null,
   "id": "05eadffb",
   "metadata": {},
   "outputs": [],
   "source": [
    "helm upgrade monitoring prometheus-community/kube-prometheus-stack --set grafana.adminPassword=admin"
   ]
  },
  {
   "cell_type": "code",
   "execution_count": null,
   "id": "ab341556",
   "metadata": {},
   "outputs": [],
   "source": [
    "kubectl get pods"
   ]
  },
  {
   "cell_type": "code",
   "execution_count": null,
   "id": "fe00631e",
   "metadata": {},
   "outputs": [],
   "source": [
    "kubectl get service"
   ]
  },
  {
   "cell_type": "markdown",
   "id": "10dbbb03",
   "metadata": {},
   "source": [
    "重複上面的改 port 步驟就可以登入"
   ]
  },
  {
   "cell_type": "markdown",
   "id": "5fd8d49b",
   "metadata": {},
   "source": [
    "---"
   ]
  },
  {
   "cell_type": "markdown",
   "id": "88672199",
   "metadata": {},
   "source": [
    "使用官方文件找到 grafana 怎麼修改成 Nodeport 的關鍵字"
   ]
  },
  {
   "cell_type": "raw",
   "id": "7a650107",
   "metadata": {},
   "source": [
    "加入 type: NodePort 且 NodePort: 30008"
   ]
  },
  {
   "cell_type": "code",
   "execution_count": null,
   "id": "5b1e149d",
   "metadata": {},
   "outputs": [],
   "source": [
    "helm upgrade monitoring prometheus-community/kube-prometheus-stack --values values.yaml"
   ]
  },
  {
   "cell_type": "code",
   "execution_count": null,
   "id": "9401b89d",
   "metadata": {},
   "outputs": [],
   "source": [
    "kubectl get service"
   ]
  }
 ],
 "metadata": {
  "kernelspec": {
   "display_name": "Python 3",
   "language": "python",
   "name": "python3"
  },
  "language_info": {
   "codemirror_mode": {
    "name": "ipython",
    "version": 3
   },
   "file_extension": ".py",
   "mimetype": "text/x-python",
   "name": "python",
   "nbconvert_exporter": "python",
   "pygments_lexer": "ipython3",
   "version": "3.8.10"
  }
 },
 "nbformat": 4,
 "nbformat_minor": 5
}

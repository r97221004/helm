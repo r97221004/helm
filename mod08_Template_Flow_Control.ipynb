{
 "cells": [
  {
   "cell_type": "code",
   "execution_count": null,
   "id": "8f0206af",
   "metadata": {},
   "outputs": [],
   "source": [
    "apiVersion: apps/v1\n",
    "kind: Deployment\n",
    "metadata:\n",
    "  name: webapp\n",
    "spec:\n",
    "  selector:\n",
    "    matchLabels:\n",
    "      app: webapp\n",
    "  replicas: {{ .Values.webapp.numberofWebAppReplicas }}\n",
    "  template: # template for the pods\n",
    "    metadata:\n",
    "      labels:\n",
    "        app: webapp\n",
    "    spec:\n",
    "      containers:\n",
    "      - name: webapp\n",
    "        # Note to deployer - add -dev at the end of here for development version\n",
    "        image: {{ .Values.DockerRepoName | default \"Matt\" | upper }}/k8s-fleetman-helm-demo:{{ if eq .Values.environment \"dev\"}}-dev{{ end }}\n",
    "---\n",
    "apiVersion: v1\n",
    "kind: Service\n",
    "metadata:\n",
    "  name: fleetman-webapp\n",
    "\n",
    "spec:\n",
    "  selector:\n",
    "    app: webapp\n",
    "\n",
    "  ports:\n",
    "    - name: http\n",
    "      port: 80\n",
    "      nodePort: 30080\n",
    "\n",
    "  type: NodePort"
   ]
  },
  {
   "cell_type": "code",
   "execution_count": null,
   "id": "a992a6c0",
   "metadata": {},
   "outputs": [],
   "source": [
    "webapp:\n",
    "  numberofWebAppReplicas: 4\n",
    "DockerRepoName: Alice    \n",
    "environment: dev"
   ]
  },
  {
   "cell_type": "code",
   "execution_count": null,
   "id": "f7baa411",
   "metadata": {},
   "outputs": [],
   "source": [
    "helm template ."
   ]
  },
  {
   "cell_type": "markdown",
   "id": "8feef2a9",
   "metadata": {},
   "source": [
    "---"
   ]
  },
  {
   "cell_type": "code",
   "execution_count": null,
   "id": "a5e5f707",
   "metadata": {},
   "outputs": [],
   "source": [
    "apiVersion: apps/v1\n",
    "kind: Deployment\n",
    "metadata:\n",
    "  name: webapp\n",
    "spec:\n",
    "  selector:\n",
    "    matchLabels:\n",
    "      app: webapp\n",
    "  replicas: {{ .Values.webapp.numberofWebAppReplicas }}\n",
    "  template: # template for the pods\n",
    "    metadata:\n",
    "      labels:\n",
    "        app: webapp\n",
    "    spec:\n",
    "      containers:\n",
    "      - name: webapp\n",
    "        # Note to deployer - add -dev at the end of here for development version\n",
    "        image: {{ .Values.DockerRepoName | default \"Matt\" | upper }}/k8s-fleetman-helm-demo:{{ if eq .Values.development true}}-dev{{ end }}\n",
    "---\n",
    "apiVersion: v1\n",
    "kind: Service\n",
    "metadata:\n",
    "  name: fleetman-webapp\n",
    "\n",
    "spec:\n",
    "  selector:\n",
    "    app: webapp\n",
    "\n",
    "  ports:\n",
    "    - name: http\n",
    "      port: 80\n",
    "      nodePort: 30080\n",
    "\n",
    "  type: NodePort"
   ]
  },
  {
   "cell_type": "code",
   "execution_count": null,
   "id": "b998b8cb",
   "metadata": {},
   "outputs": [],
   "source": [
    "webapp:\n",
    "  numberofWebAppReplicas: 4\n",
    "DockerRepoName: Alice    \n",
    "development: true"
   ]
  },
  {
   "cell_type": "code",
   "execution_count": null,
   "id": "d816f586",
   "metadata": {},
   "outputs": [],
   "source": [
    "helm template ."
   ]
  },
  {
   "cell_type": "markdown",
   "id": "db9a7d84",
   "metadata": {},
   "source": [
    "---"
   ]
  },
  {
   "cell_type": "code",
   "execution_count": null,
   "id": "0d797812",
   "metadata": {},
   "outputs": [],
   "source": [
    "apiVersion: apps/v1\n",
    "kind: Deployment\n",
    "metadata:\n",
    "  name: webapp\n",
    "spec:\n",
    "  selector:\n",
    "    matchLabels:\n",
    "      app: webapp\n",
    "  replicas: {{ .Values.webapp.numberofWebAppReplicas }}\n",
    "  template: # template for the pods\n",
    "    metadata:\n",
    "      labels:\n",
    "        app: webapp\n",
    "    spec:\n",
    "      containers:\n",
    "      - name: webapp\n",
    "        # Note to deployer - add -dev at the end of here for development version\n",
    "        image: {{ .Values.DockerRepoName | default \"Matt\" | upper }}/k8s-fleetman-helm-demo:{{ if .Values.development }}-dev{{ else }}-prod{{ end }}\n",
    "---\n",
    "apiVersion: v1\n",
    "kind: Service\n",
    "metadata:\n",
    "  name: fleetman-webapp\n",
    "\n",
    "spec:\n",
    "  selector:\n",
    "    app: webapp\n",
    "\n",
    "  ports:\n",
    "    - name: http\n",
    "      port: 80\n",
    "      nodePort: 30080\n",
    "\n",
    "  type: NodePort"
   ]
  },
  {
   "cell_type": "code",
   "execution_count": null,
   "id": "8fd6312d",
   "metadata": {},
   "outputs": [],
   "source": [
    "webapp:\n",
    "  numberofWebAppReplicas: 4\n",
    "DockerRepoName: Alice    \n",
    "development: true"
   ]
  },
  {
   "cell_type": "code",
   "execution_count": null,
   "id": "899e3e07",
   "metadata": {},
   "outputs": [],
   "source": [
    "helm template ."
   ]
  }
 ],
 "metadata": {
  "kernelspec": {
   "display_name": "Python 3 (ipykernel)",
   "language": "python",
   "name": "python3"
  },
  "language_info": {
   "codemirror_mode": {
    "name": "ipython",
    "version": 3
   },
   "file_extension": ".py",
   "mimetype": "text/x-python",
   "name": "python",
   "nbconvert_exporter": "python",
   "pygments_lexer": "ipython3",
   "version": "3.9.6"
  }
 },
 "nbformat": 4,
 "nbformat_minor": 5
}

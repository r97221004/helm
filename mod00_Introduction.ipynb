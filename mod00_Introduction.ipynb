{
 "cells": [
  {
   "cell_type": "code",
   "execution_count": null,
   "id": "08e0f576",
   "metadata": {},
   "outputs": [],
   "source": [
    "helm repo add bitnami https://charts.bitnami.com/bitnami"
   ]
  },
  {
   "cell_type": "code",
   "execution_count": null,
   "id": "98222712",
   "metadata": {},
   "outputs": [],
   "source": [
    "helm install mysql bitnami/mysql"
   ]
  },
  {
   "cell_type": "code",
   "execution_count": null,
   "id": "8fffd545",
   "metadata": {},
   "outputs": [],
   "source": [
    "kubectl get pods -A"
   ]
  },
  {
   "cell_type": "code",
   "execution_count": null,
   "id": "c7219f29",
   "metadata": {},
   "outputs": [],
   "source": [
    "kubectl get all"
   ]
  },
  {
   "cell_type": "code",
   "execution_count": null,
   "id": "0b1b9ec8",
   "metadata": {},
   "outputs": [],
   "source": [
    "helm list"
   ]
  },
  {
   "cell_type": "code",
   "execution_count": null,
   "id": "83a8984b",
   "metadata": {},
   "outputs": [],
   "source": [
    "helm uninstall mysql"
   ]
  },
  {
   "cell_type": "code",
   "execution_count": null,
   "id": "3ef51973",
   "metadata": {},
   "outputs": [],
   "source": [
    "kubectl get all"
   ]
  },
  {
   "cell_type": "code",
   "execution_count": null,
   "id": "2a28272f",
   "metadata": {},
   "outputs": [],
   "source": [
    "helm list"
   ]
  },
  {
   "cell_type": "code",
   "execution_count": null,
   "id": "97249714",
   "metadata": {},
   "outputs": [],
   "source": [
    "helm repo list"
   ]
  }
 ],
 "metadata": {
  "kernelspec": {
   "display_name": "Python 3 (ipykernel)",
   "language": "python",
   "name": "python3"
  },
  "language_info": {
   "codemirror_mode": {
    "name": "ipython",
    "version": 3
   },
   "file_extension": ".py",
   "mimetype": "text/x-python",
   "name": "python",
   "nbconvert_exporter": "python",
   "pygments_lexer": "ipython3",
   "version": "3.9.6"
  }
 },
 "nbformat": 4,
 "nbformat_minor": 5
}

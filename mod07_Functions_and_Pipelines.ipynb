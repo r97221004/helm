{
 "cells": [
  {
   "cell_type": "markdown",
   "id": "5d676e7a",
   "metadata": {},
   "source": [
    "fleetman-full.yaml"
   ]
  },
  {
   "cell_type": "code",
   "execution_count": null,
   "id": "b93f4bf9",
   "metadata": {},
   "outputs": [],
   "source": [
    "apiVersion: apps/v1\n",
    "kind: Deployment\n",
    "metadata:\n",
    "  name: webapp\n",
    "spec:\n",
    "  selector:\n",
    "    matchLabels:\n",
    "      app: webapp\n",
    "  replicas: {{ .Values.webapp.numberofWebAppReplicas }}\n",
    "  template: # template for the pods\n",
    "    metadata:\n",
    "      labels:\n",
    "        app: webapp\n",
    "    spec:\n",
    "      containers:\n",
    "      - name: webapp\n",
    "        # Note to deployer - add -dev at the end of here for development version\n",
    "        image: {{ .Values.DockerRepoName }}/k8s-fleetman-helm-demo:v1.0.0\n",
    "---\n",
    "apiVersion: v1\n",
    "kind: Service\n",
    "metadata:\n",
    "  name: fleetman-webapp\n",
    "\n",
    "spec:\n",
    "  selector:\n",
    "    app: webapp\n",
    "\n",
    "  ports:\n",
    "    - name: http\n",
    "      port: 80\n",
    "      nodePort: 30080\n",
    "\n",
    "  type: NodePort"
   ]
  },
  {
   "cell_type": "code",
   "execution_count": null,
   "id": "1645ad85",
   "metadata": {},
   "outputs": [],
   "source": [
    "webapp:\n",
    "  numberofWebAppReplicas: 4\n",
    "\n",
    "DockerRepoName: Matt"
   ]
  },
  {
   "cell_type": "code",
   "execution_count": null,
   "id": "0152d978",
   "metadata": {},
   "outputs": [],
   "source": [
    "helm template ."
   ]
  },
  {
   "cell_type": "markdown",
   "id": "e1a6d2b1",
   "metadata": {},
   "source": [
    "---"
   ]
  },
  {
   "cell_type": "markdown",
   "id": "769b6e74",
   "metadata": {},
   "source": [
    "查看 helm 文件的函數部分 "
   ]
  },
  {
   "cell_type": "code",
   "execution_count": null,
   "id": "a19e2a6f",
   "metadata": {},
   "outputs": [],
   "source": [
    "apiVersion: apps/v1\n",
    "kind: Deployment\n",
    "metadata:\n",
    "  name: webapp\n",
    "spec:\n",
    "  selector:\n",
    "    matchLabels:\n",
    "      app: webapp\n",
    "  replicas: {{ .Values.webapp.numberofWebAppReplicas }}\n",
    "  template: # template for the pods\n",
    "    metadata:\n",
    "      labels:\n",
    "        app: webapp\n",
    "    spec:\n",
    "      containers:\n",
    "      - name: webapp\n",
    "        # Note to deployer - add -dev at the end of here for development version\n",
    "        image: {{ lower .Values.DockerRepoName }}/k8s-fleetman-helm-demo:v1.0.0\n",
    "---\n",
    "apiVersion: v1\n",
    "kind: Service\n",
    "metadata:\n",
    "  name: fleetman-webapp\n",
    "\n",
    "spec:\n",
    "  selector:\n",
    "    app: webapp\n",
    "\n",
    "  ports:\n",
    "    - name: http\n",
    "      port: 80\n",
    "      nodePort: 30080\n",
    "\n",
    "  type: NodePort"
   ]
  },
  {
   "cell_type": "code",
   "execution_count": null,
   "id": "a2d913b3",
   "metadata": {},
   "outputs": [],
   "source": [
    "webapp:\n",
    "  numberofWebAppReplicas: 4\n",
    "\n",
    "DockerRepoName: MattAlice"
   ]
  },
  {
   "cell_type": "code",
   "execution_count": null,
   "id": "41494060",
   "metadata": {},
   "outputs": [],
   "source": [
    "helm template ."
   ]
  },
  {
   "cell_type": "markdown",
   "id": "c55182b4",
   "metadata": {},
   "source": [
    "---"
   ]
  },
  {
   "cell_type": "code",
   "execution_count": null,
   "id": "0c7c2e6c",
   "metadata": {},
   "outputs": [],
   "source": [
    "apiVersion: apps/v1\n",
    "kind: Deployment\n",
    "metadata:\n",
    "  name: webapp\n",
    "spec:\n",
    "  selector:\n",
    "    matchLabels:\n",
    "      app: webapp\n",
    "  replicas: {{ .Values.webapp.numberofWebAppReplicas }}\n",
    "  template: # template for the pods\n",
    "    metadata:\n",
    "      labels:\n",
    "        app: webapp\n",
    "    spec:\n",
    "      containers:\n",
    "      - name: webapp\n",
    "        # Note to deployer - add -dev at the end of here for development version\n",
    "        image: {{ default \"Peter\" .Values.DockerRepoName }}/k8s-fleetman-helm-demo:v1.0.0\n",
    "---\n",
    "apiVersion: v1\n",
    "kind: Service\n",
    "metadata:\n",
    "  name: fleetman-webapp\n",
    "\n",
    "spec:\n",
    "  selector:\n",
    "    app: webapp\n",
    "\n",
    "  ports:\n",
    "    - name: http\n",
    "      port: 80\n",
    "      nodePort: 30080\n",
    "\n",
    "  type: NodePort"
   ]
  },
  {
   "cell_type": "code",
   "execution_count": null,
   "id": "3d87047b",
   "metadata": {},
   "outputs": [],
   "source": [
    "webapp:\n",
    "  numberofWebAppReplicas: 4"
   ]
  },
  {
   "cell_type": "code",
   "execution_count": null,
   "id": "cf5a0596",
   "metadata": {},
   "outputs": [],
   "source": [
    "helm template ."
   ]
  },
  {
   "cell_type": "markdown",
   "id": "836d24ee",
   "metadata": {},
   "source": [
    "---"
   ]
  },
  {
   "cell_type": "code",
   "execution_count": null,
   "id": "b04dd1a2",
   "metadata": {},
   "outputs": [],
   "source": [
    "apiVersion: apps/v1\n",
    "kind: Deployment\n",
    "metadata:\n",
    "  name: webapp\n",
    "spec:\n",
    "  selector:\n",
    "    matchLabels:\n",
    "      app: webapp\n",
    "  replicas: {{ .Values.webapp.numberofWebAppReplicas }}\n",
    "  template: # template for the pods\n",
    "    metadata:\n",
    "      labels:\n",
    "        app: webapp\n",
    "    spec:\n",
    "      containers:\n",
    "      - name: webapp\n",
    "        # Note to deployer - add -dev at the end of here for development version\n",
    "        image: {{ .Values.DockerRepoName | default \"Matt\" | upper }}/k8s-fleetman-helm-demo:v1.0.0\n",
    "---\n",
    "apiVersion: v1\n",
    "kind: Service\n",
    "metadata:\n",
    "  name: fleetman-webapp\n",
    "\n",
    "spec:\n",
    "  selector:\n",
    "    app: webapp\n",
    "\n",
    "  ports:\n",
    "    - name: http\n",
    "      port: 80\n",
    "      nodePort: 30080\n",
    "\n",
    "  type: NodePort"
   ]
  },
  {
   "cell_type": "code",
   "execution_count": null,
   "id": "a27e81e1",
   "metadata": {},
   "outputs": [],
   "source": [
    "webapp:\n",
    "  numberofWebAppReplicas: 4"
   ]
  },
  {
   "cell_type": "code",
   "execution_count": null,
   "id": "4d816104",
   "metadata": {},
   "outputs": [],
   "source": [
    "helm template ."
   ]
  }
 ],
 "metadata": {
  "kernelspec": {
   "display_name": "Python 3 (ipykernel)",
   "language": "python",
   "name": "python3"
  },
  "language_info": {
   "codemirror_mode": {
    "name": "ipython",
    "version": 3
   },
   "file_extension": ".py",
   "mimetype": "text/x-python",
   "name": "python",
   "nbconvert_exporter": "python",
   "pygments_lexer": "ipython3",
   "version": "3.9.6"
  }
 },
 "nbformat": 4,
 "nbformat_minor": 5
}

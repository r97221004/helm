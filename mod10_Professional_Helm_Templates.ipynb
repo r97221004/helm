{
 "cells": [
  {
   "cell_type": "code",
   "execution_count": null,
   "id": "8ea85595",
   "metadata": {},
   "outputs": [],
   "source": [
    "apiVersion: apps/v1\n",
    "kind: Deployment\n",
    "metadata:\n",
    "  name: webapp\n",
    "spec:\n",
    "  selector:\n",
    "    matchLabels:\n",
    "      app: {{ .Release.Name }}-webapp\n",
    "  replicas: {{ .Values.webapp.numberofWebAppReplicas }}\n",
    "  template: # template for the pods\n",
    "    metadata:\n",
    "      labels:\n",
    "        app: webapp\n",
    "    spec:\n",
    "      containers:\n",
    "      {{- include \"webappImage\" . | indent 6 }}\n",
    "---\n",
    "apiVersion: v1\n",
    "kind: Service\n",
    "metadata:\n",
    "  name: {{ .Release.Name }}-fleetman-webapp\n",
    "\n",
    "spec:\n",
    "  selector:\n",
    "    app: webapp\n",
    "\n",
    "  ports:\n",
    "    - name: http\n",
    "      port: 80\n",
    "      nodePort: {{ .Values.webapp.nodeport }}\n",
    "\n",
    "  type: NodePort"
   ]
  },
  {
   "cell_type": "code",
   "execution_count": null,
   "id": "e7190b3e",
   "metadata": {},
   "outputs": [],
   "source": [
    "webapp:\n",
    "  numberofWebAppReplicas: 4\n",
    "  nodePort: 30080\n",
    "DockerRepoName: Alice    \n",
    "development: true"
   ]
  },
  {
   "cell_type": "code",
   "execution_count": null,
   "id": "a526a7b4",
   "metadata": {},
   "outputs": [],
   "source": [
    "helm install fleetman-development-release . --set development=true"
   ]
  },
  {
   "cell_type": "code",
   "execution_count": null,
   "id": "9f0184cb",
   "metadata": {},
   "outputs": [],
   "source": [
    "helm install fleetman-production-release . --set development=false --set webapp.nodePort=31080"
   ]
  }
 ],
 "metadata": {
  "kernelspec": {
   "display_name": "Python 3",
   "language": "python",
   "name": "python3"
  },
  "language_info": {
   "codemirror_mode": {
    "name": "ipython",
    "version": 3
   },
   "file_extension": ".py",
   "mimetype": "text/x-python",
   "name": "python",
   "nbconvert_exporter": "python",
   "pygments_lexer": "ipython3",
   "version": "3.8.10"
  }
 },
 "nbformat": 4,
 "nbformat_minor": 5
}

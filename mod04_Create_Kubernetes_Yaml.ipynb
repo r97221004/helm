{
 "cells": [
  {
   "cell_type": "code",
   "execution_count": null,
   "id": "c5699041",
   "metadata": {},
   "outputs": [],
   "source": [
    "helm list"
   ]
  },
  {
   "cell_type": "code",
   "execution_count": null,
   "id": "e557da7c",
   "metadata": {},
   "outputs": [],
   "source": [
    "helm uninstall monitoring"
   ]
  },
  {
   "cell_type": "markdown",
   "id": "909c60ba",
   "metadata": {},
   "source": [
    "注意路徑，且 monitoring 最後會當成服務的前綴。"
   ]
  },
  {
   "cell_type": "code",
   "execution_count": null,
   "id": "d690efec",
   "metadata": {},
   "outputs": [],
   "source": [
    "helm template monitoring ./kube-prometheus-stack/ --values=my_prometheus_values.yaml > monitoring.yaml"
   ]
  },
  {
   "cell_type": "raw",
   "id": "7b1a27e6",
   "metadata": {},
   "source": [
    "產生 kubernetes yaml 檔"
   ]
  },
  {
   "cell_type": "markdown",
   "id": "99af61a7",
   "metadata": {},
   "source": [
    "---"
   ]
  },
  {
   "cell_type": "code",
   "execution_count": null,
   "id": "13837d34",
   "metadata": {},
   "outputs": [],
   "source": [
    "vim monitoring.yaml"
   ]
  },
  {
   "cell_type": "code",
   "execution_count": null,
   "id": "131f416d",
   "metadata": {},
   "outputs": [],
   "source": [
    "kubectl apply -f monitoring.yaml"
   ]
  }
 ],
 "metadata": {
  "kernelspec": {
   "display_name": "Python 3",
   "language": "python",
   "name": "python3"
  },
  "language_info": {
   "codemirror_mode": {
    "name": "ipython",
    "version": 3
   },
   "file_extension": ".py",
   "mimetype": "text/x-python",
   "name": "python",
   "nbconvert_exporter": "python",
   "pygments_lexer": "ipython3",
   "version": "3.8.10"
  }
 },
 "nbformat": 4,
 "nbformat_minor": 5
}

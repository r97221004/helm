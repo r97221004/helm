{
 "cells": [
  {
   "cell_type": "code",
   "execution_count": null,
   "id": "d3566f04",
   "metadata": {},
   "outputs": [],
   "source": [
    "helm list"
   ]
  },
  {
   "cell_type": "code",
   "execution_count": null,
   "id": "ad34930c",
   "metadata": {},
   "outputs": [],
   "source": [
    "helm uninstall monitoring"
   ]
  },
  {
   "cell_type": "code",
   "execution_count": null,
   "id": "c6f579b3",
   "metadata": {},
   "outputs": [],
   "source": [
    "kubectl get all"
   ]
  },
  {
   "cell_type": "markdown",
   "id": "d2516ca5",
   "metadata": {},
   "source": [
    "---"
   ]
  },
  {
   "cell_type": "code",
   "execution_count": null,
   "id": "d7bec38f",
   "metadata": {},
   "outputs": [],
   "source": [
    "mkdir my-cluster-config"
   ]
  },
  {
   "cell_type": "code",
   "execution_count": null,
   "id": "49022edb",
   "metadata": {},
   "outputs": [],
   "source": [
    "helm pull --help"
   ]
  },
  {
   "cell_type": "markdown",
   "id": "358fbfc3",
   "metadata": {},
   "source": [
    "使用 helm pull 的時候不會在 k8s 上執行"
   ]
  },
  {
   "cell_type": "code",
   "execution_count": null,
   "id": "9bd42d54",
   "metadata": {},
   "outputs": [],
   "source": [
    "helm pull prometheus-community/kube-prometheus-stack --untar=true"
   ]
  },
  {
   "cell_type": "raw",
   "id": "6c4c4aeb",
   "metadata": {},
   "source": [
    "本地啟動"
   ]
  },
  {
   "cell_type": "code",
   "execution_count": null,
   "id": "27e2b5ca",
   "metadata": {},
   "outputs": [],
   "source": [
    "helm install monitoring ./kube-prometheus-stack"
   ]
  },
  {
   "cell_type": "code",
   "execution_count": null,
   "id": "d536faad",
   "metadata": {},
   "outputs": [],
   "source": [
    "helm list"
   ]
  },
  {
   "cell_type": "code",
   "execution_count": null,
   "id": "45b1c42b",
   "metadata": {},
   "outputs": [],
   "source": [
    "kubectl get all"
   ]
  },
  {
   "cell_type": "markdown",
   "id": "aac99e05",
   "metadata": {},
   "source": [
    "---"
   ]
  },
  {
   "cell_type": "raw",
   "id": "19fd1201",
   "metadata": {},
   "source": [
    "複製 values.yaml 改成 my_prometheus_values.yaml 放在資料夾 kube-prometheus-stack 外"
   ]
  },
  {
   "cell_type": "markdown",
   "id": "1971f2d1",
   "metadata": {},
   "source": [
    "注意路徑的正確性"
   ]
  },
  {
   "cell_type": "markdown",
   "id": "00af9e53",
   "metadata": {},
   "source": [
    "my_prometheus_values.yaml"
   ]
  },
  {
   "cell_type": "code",
   "execution_count": null,
   "id": "3a8d2fa6",
   "metadata": {},
   "outputs": [],
   "source": [
    "grafana:\n",
    "  adminPassword: admin\n",
    "  service:\n",
    "    portName: http-web      \n",
    "    type: NodePort\n",
    "    nodePort: 30008"
   ]
  },
  {
   "cell_type": "code",
   "execution_count": null,
   "id": "4d27dc69",
   "metadata": {},
   "outputs": [],
   "source": [
    "helm upgrade monitoring ./kube-prometheus-stack --values=my_prometheus_values.yaml"
   ]
  },
  {
   "cell_type": "code",
   "execution_count": null,
   "id": "9f363bc1",
   "metadata": {},
   "outputs": [],
   "source": [
    "kubectl get pods"
   ]
  },
  {
   "cell_type": "code",
   "execution_count": null,
   "id": "24d01779",
   "metadata": {},
   "outputs": [],
   "source": [
    "kubectl get service"
   ]
  }
 ],
 "metadata": {
  "kernelspec": {
   "display_name": "Python 3",
   "language": "python",
   "name": "python3"
  },
  "language_info": {
   "codemirror_mode": {
    "name": "ipython",
    "version": 3
   },
   "file_extension": ".py",
   "mimetype": "text/x-python",
   "name": "python",
   "nbconvert_exporter": "python",
   "pygments_lexer": "ipython3",
   "version": "3.8.10"
  }
 },
 "nbformat": 4,
 "nbformat_minor": 5
}

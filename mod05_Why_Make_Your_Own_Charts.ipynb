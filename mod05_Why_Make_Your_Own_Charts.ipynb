{
 "cells": [
  {
   "cell_type": "markdown",
   "id": "fa229d38",
   "metadata": {},
   "source": [
    "live version"
   ]
  },
  {
   "cell_type": "code",
   "execution_count": null,
   "id": "a9c36082",
   "metadata": {},
   "outputs": [],
   "source": [
    "apiVersion: apps/v1\n",
    "kind: Deployment\n",
    "metadata:\n",
    "  name: webapp\n",
    "spec:\n",
    "  selector:\n",
    "    matchLabels:\n",
    "      app: webapp\n",
    "  replicas: 1\n",
    "  template: # template for the pods\n",
    "    metadata:\n",
    "      labels:\n",
    "        app: webapp\n",
    "    spec:\n",
    "      containers:\n",
    "      - name: webapp\n",
    "        # Note to deployer - add -dev at the end of here for development version\n",
    "        image: richardchesterwood/k8s-fleetman-helm-demo:v1.0.0\n",
    "---\n",
    "apiVersion: v1\n",
    "kind: Service\n",
    "metadata:\n",
    "  name: fleetman-webapp\n",
    "\n",
    "spec:\n",
    "  selector:\n",
    "    app: webapp\n",
    "\n",
    "  ports:\n",
    "    - name: http\n",
    "      port: 80\n",
    "      nodePort: 30080\n",
    "\n",
    "  type: NodePort"
   ]
  },
  {
   "cell_type": "markdown",
   "id": "b31037df",
   "metadata": {},
   "source": [
    "dev version"
   ]
  },
  {
   "cell_type": "code",
   "execution_count": null,
   "id": "0151110f",
   "metadata": {},
   "outputs": [],
   "source": [
    "apiVersion: apps/v1\n",
    "kind: Deployment\n",
    "metadata:\n",
    "  name: webapp\n",
    "spec:\n",
    "  selector:\n",
    "    matchLabels:\n",
    "      app: webapp\n",
    "  replicas: 1\n",
    "  template: # template for the pods\n",
    "    metadata:\n",
    "      labels:\n",
    "        app: webapp\n",
    "    spec:\n",
    "      containers:\n",
    "      - name: webapp\n",
    "        # Note to deployer - add -dev at the end of here for development version\n",
    "        image: richardchesterwood/k8s-fleetman-helm-demo:v1.0.0-dev\n",
    "---\n",
    "apiVersion: v1\n",
    "kind: Service\n",
    "metadata:\n",
    "  name: fleetman-webapp\n",
    "\n",
    "spec:\n",
    "  selector:\n",
    "    app: webapp\n",
    "\n",
    "  ports:\n",
    "    - name: http\n",
    "      port: 80\n",
    "      nodePort: 30080\n",
    "\n",
    "  type: NodePort"
   ]
  },
  {
   "cell_type": "markdown",
   "id": "7baca9fe",
   "metadata": {},
   "source": [
    "如何去避免重複的 yaml 檔"
   ]
  }
 ],
 "metadata": {
  "kernelspec": {
   "display_name": "Python 3",
   "language": "python",
   "name": "python3"
  },
  "language_info": {
   "codemirror_mode": {
    "name": "ipython",
    "version": 3
   },
   "file_extension": ".py",
   "mimetype": "text/x-python",
   "name": "python",
   "nbconvert_exporter": "python",
   "pygments_lexer": "ipython3",
   "version": "3.8.10"
  }
 },
 "nbformat": 4,
 "nbformat_minor": 5
}

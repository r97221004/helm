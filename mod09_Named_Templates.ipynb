{
 "cells": [
  {
   "cell_type": "code",
   "execution_count": null,
   "id": "1852eecd",
   "metadata": {},
   "outputs": [],
   "source": [
    "apiVersion: apps/v1\n",
    "kind: Deployment\n",
    "metadata:\n",
    "  name: webapp\n",
    "spec:\n",
    "  selector:\n",
    "    matchLabels:\n",
    "      app: webapp\n",
    "  replicas: {{ .Values.webapp.numberofWebAppReplicas }}\n",
    "  template: # template for the pods\n",
    "    metadata:\n",
    "      labels:\n",
    "        app: webapp\n",
    "    spec:\n",
    "      containers:\n",
    "      # 使用 template or include\n",
    "      {{- template \"webappImage\" . }}\n",
    "---\n",
    "apiVersion: v1\n",
    "kind: Service\n",
    "metadata:\n",
    "  name: fleetman-webapp\n",
    "\n",
    "spec:\n",
    "  selector:\n",
    "    app: webapp\n",
    "\n",
    "  ports:\n",
    "    - name: http\n",
    "      port: 80\n",
    "      nodePort: 30080\n",
    "\n",
    "  type: NodePort"
   ]
  },
  {
   "cell_type": "code",
   "execution_count": null,
   "id": "bbf14269",
   "metadata": {},
   "outputs": [],
   "source": [
    "建立 templates/_common-blocks.tpl"
   ]
  },
  {
   "cell_type": "code",
   "execution_count": null,
   "id": "877e2cfb",
   "metadata": {},
   "outputs": [],
   "source": [
    " {{- define \"webappImage\"}}\n",
    "    - name: webapp\n",
    "        image: {{ .Values.DockerRepoName | default \"Matt\" | upper }}/k8s-fleetman-helm-demo:{{ if .Values.development }}-dev{{ else }}-prod{{ end }}\n",
    " {{- end }}           "
   ]
  },
  {
   "cell_type": "code",
   "execution_count": null,
   "id": "55efaba6",
   "metadata": {},
   "outputs": [],
   "source": [
    "helm template ."
   ]
  },
  {
   "cell_type": "markdown",
   "id": "0efb1157",
   "metadata": {},
   "source": [
    "---"
   ]
  },
  {
   "cell_type": "markdown",
   "id": "2dfaf328",
   "metadata": {},
   "source": [
    "include 可以使用 pipeline, template 不可以"
   ]
  },
  {
   "cell_type": "code",
   "execution_count": null,
   "id": "fa549bfe",
   "metadata": {},
   "outputs": [],
   "source": [
    "apiVersion: apps/v1\n",
    "kind: Deployment\n",
    "metadata:\n",
    "  name: webapp\n",
    "spec:\n",
    "  selector:\n",
    "    matchLabels:\n",
    "      app: webapp\n",
    "  replicas: {{ .Values.webapp.numberofWebAppReplicas }}\n",
    "  template: # template for the pods\n",
    "    metadata:\n",
    "      labels:\n",
    "        app: webapp\n",
    "    spec:\n",
    "      containers:\n",
    "      {{- include \"webappImage\" . | indent 6 }}\n",
    "---\n",
    "apiVersion: v1\n",
    "kind: Service\n",
    "metadata:\n",
    "  name: fleetman-webapp\n",
    "\n",
    "spec:\n",
    "  selector:\n",
    "    app: webapp\n",
    "\n",
    "  ports:\n",
    "    - name: http\n",
    "      port: 80\n",
    "      nodePort: 30080\n",
    "\n",
    "  type: NodePort"
   ]
  },
  {
   "cell_type": "code",
   "execution_count": null,
   "id": "dfb08e10",
   "metadata": {},
   "outputs": [],
   "source": [
    " {{- define \"webappImage\"}}\n",
    "- name: webapp\n",
    "    image: {{ .Values.DockerRepoName | default \"Matt\" | upper }}/k8s-fleetman-helm-demo:{{ if .Values.development }}-dev{{ else }}-prod{{ end }}\n",
    " {{- end }}           "
   ]
  },
  {
   "cell_type": "code",
   "execution_count": null,
   "id": "b396c582",
   "metadata": {},
   "outputs": [],
   "source": [
    "helm template ."
   ]
  },
  {
   "cell_type": "markdown",
   "id": "a98cf1df",
   "metadata": {},
   "source": [
    "---"
   ]
  },
  {
   "cell_type": "code",
   "execution_count": null,
   "id": "4b535729",
   "metadata": {},
   "outputs": [],
   "source": [
    "helm install my-fleetman-release . --set development=true"
   ]
  },
  {
   "cell_type": "code",
   "execution_count": null,
   "id": "c93be398",
   "metadata": {},
   "outputs": [],
   "source": [
    "kubectl get all"
   ]
  },
  {
   "cell_type": "code",
   "execution_count": null,
   "id": "894b334f",
   "metadata": {},
   "outputs": [],
   "source": []
  }
 ],
 "metadata": {
  "kernelspec": {
   "display_name": "Python 3 (ipykernel)",
   "language": "python",
   "name": "python3"
  },
  "language_info": {
   "codemirror_mode": {
    "name": "ipython",
    "version": 3
   },
   "file_extension": ".py",
   "mimetype": "text/x-python",
   "name": "python",
   "nbconvert_exporter": "python",
   "pygments_lexer": "ipython3",
   "version": "3.9.6"
  }
 },
 "nbformat": 4,
 "nbformat_minor": 5
}

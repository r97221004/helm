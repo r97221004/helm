{
 "cells": [
  {
   "cell_type": "code",
   "execution_count": null,
   "id": "36d24482",
   "metadata": {},
   "outputs": [],
   "source": [
    "cd /kube-prometheus-stack"
   ]
  },
  {
   "cell_type": "code",
   "execution_count": null,
   "id": "1ee0cbcc",
   "metadata": {},
   "outputs": [],
   "source": [
    "ls"
   ]
  },
  {
   "cell_type": "code",
   "execution_count": null,
   "id": "9f3bc524",
   "metadata": {},
   "outputs": [],
   "source": [
    "cd ~/my-cluster-config"
   ]
  },
  {
   "cell_type": "code",
   "execution_count": null,
   "id": "9f819b58",
   "metadata": {},
   "outputs": [],
   "source": [
    "helm create fleetman-helm-chart"
   ]
  },
  {
   "cell_type": "code",
   "execution_count": null,
   "id": "845c52cc",
   "metadata": {},
   "outputs": [],
   "source": [
    "cd fleetman-helm-chart"
   ]
  },
  {
   "cell_type": "code",
   "execution_count": null,
   "id": "e39e281f",
   "metadata": {},
   "outputs": [],
   "source": [
    "ls fleetman-helm-chart"
   ]
  },
  {
   "cell_type": "code",
   "execution_count": null,
   "id": "37f27fe2",
   "metadata": {},
   "outputs": [],
   "source": [
    "code ."
   ]
  },
  {
   "cell_type": "markdown",
   "id": "5a4ccb62",
   "metadata": {},
   "source": [
    "刪除 templates 裡面的所有檔案 注意 templates 裡面的檔案都會被轉成 k8s yaml"
   ]
  },
  {
   "cell_type": "code",
   "execution_count": null,
   "id": "497cad9e",
   "metadata": {},
   "outputs": [],
   "source": [
    "在 templates 加入檔案 one.yaml 且順便也把 values.yaml 給清空"
   ]
  },
  {
   "cell_type": "markdown",
   "id": "da9e961c",
   "metadata": {},
   "source": [
    "one.yaml"
   ]
  },
  {
   "cell_type": "markdown",
   "id": "bdfb73a5",
   "metadata": {},
   "source": [
    "hello:\n",
    "  world: true"
   ]
  },
  {
   "cell_type": "code",
   "execution_count": null,
   "id": "6a359af2",
   "metadata": {},
   "outputs": [],
   "source": [
    "cd ~/my-cluster-config/fleetman-helm-chart"
   ]
  },
  {
   "cell_type": "code",
   "execution_count": null,
   "id": "1960ece0",
   "metadata": {},
   "outputs": [],
   "source": [
    "helm template ."
   ]
  },
  {
   "cell_type": "markdown",
   "id": "32d2dd93",
   "metadata": {},
   "source": [
    "在 templates 加入檔案 two.yaml "
   ]
  },
  {
   "cell_type": "markdown",
   "id": "75e1a8d2",
   "metadata": {},
   "source": [
    "something:\n",
    "  name: matt"
   ]
  },
  {
   "cell_type": "code",
   "execution_count": null,
   "id": "c662075f",
   "metadata": {},
   "outputs": [],
   "source": [
    "helm template ."
   ]
  },
  {
   "cell_type": "markdown",
   "id": "effb8f02",
   "metadata": {},
   "source": [
    "修改 one.yaml"
   ]
  },
  {
   "cell_type": "code",
   "execution_count": null,
   "id": "58c8a310",
   "metadata": {},
   "outputs": [],
   "source": [
    "hello:\n",
    "  world: {{ printf \"true\" }}"
   ]
  },
  {
   "cell_type": "code",
   "execution_count": null,
   "id": "959b50ce",
   "metadata": {},
   "outputs": [],
   "source": [
    "helm template ."
   ]
  },
  {
   "cell_type": "markdown",
   "id": "a7ec4aed",
   "metadata": {},
   "source": [
    "---"
   ]
  },
  {
   "cell_type": "code",
   "execution_count": null,
   "id": "383e5cd3",
   "metadata": {},
   "outputs": [],
   "source": [
    "刪除 one.yaml 與 tow.yaml 加入 "
   ]
  },
  {
   "cell_type": "raw",
   "id": "6b15da4d",
   "metadata": {},
   "source": [
    "fleetman-full.yaml"
   ]
  },
  {
   "cell_type": "code",
   "execution_count": null,
   "id": "474fb047",
   "metadata": {},
   "outputs": [],
   "source": [
    "apiVersion: apps/v1\n",
    "kind: Deployment\n",
    "metadata:\n",
    "  name: webapp\n",
    "spec:\n",
    "  selector:\n",
    "    matchLabels:\n",
    "      app: webapp\n",
    "  replicas: 1\n",
    "  template: # template for the pods\n",
    "    metadata:\n",
    "      labels:\n",
    "        app: webapp\n",
    "    spec:\n",
    "      containers:\n",
    "      - name: webapp\n",
    "        # Note to deployer - add -dev at the end of here for development version\n",
    "        image: richardchesterwood/k8s-fleetman-helm-demo:v1.0.0\n",
    "---\n",
    "apiVersion: v1\n",
    "kind: Service\n",
    "metadata:\n",
    "  name: fleetman-webapp\n",
    "\n",
    "spec:\n",
    "  selector:\n",
    "    app: webapp\n",
    "\n",
    "  ports:\n",
    "    - name: http\n",
    "      port: 80\n",
    "      nodePort: 30080\n",
    "\n",
    "  type: NodePort"
   ]
  },
  {
   "cell_type": "code",
   "execution_count": null,
   "id": "4b690312",
   "metadata": {},
   "outputs": [],
   "source": [
    "helm template ."
   ]
  },
  {
   "cell_type": "markdown",
   "id": "e96f6dc1",
   "metadata": {},
   "source": [
    "---"
   ]
  },
  {
   "cell_type": "code",
   "execution_count": null,
   "id": "efa96691",
   "metadata": {},
   "outputs": [],
   "source": [
    "dynamic go action"
   ]
  },
  {
   "cell_type": "code",
   "execution_count": null,
   "id": "4985376d",
   "metadata": {},
   "outputs": [],
   "source": [
    "fleetman-full.yaml"
   ]
  },
  {
   "cell_type": "code",
   "execution_count": null,
   "id": "f1967442",
   "metadata": {},
   "outputs": [],
   "source": [
    "apiVersion: apps/v1\n",
    "kind: Deployment\n",
    "metadata:\n",
    "  name: webapp\n",
    "spec:\n",
    "  selector:\n",
    "    matchLabels:\n",
    "      app: webapp\n",
    "  replicas: {{ .Values.webapp.numberofWebAppReplicas }}\n",
    "  template: # template for the pods\n",
    "    metadata:\n",
    "      labels:\n",
    "        app: webapp\n",
    "    spec:\n",
    "      containers:\n",
    "      - name: webapp\n",
    "        # Note to deployer - add -dev at the end of here for development version\n",
    "        image: richardchesterwood/k8s-fleetman-helm-demo:v1.0.0\n",
    "---\n",
    "apiVersion: v1\n",
    "kind: Service\n",
    "metadata:\n",
    "  name: fleetman-webapp\n",
    "\n",
    "spec:\n",
    "  selector:\n",
    "    app: webapp\n",
    "\n",
    "  ports:\n",
    "    - name: http\n",
    "      port: 80\n",
    "      nodePort: 30080\n",
    "\n",
    "  type: NodePort"
   ]
  },
  {
   "cell_type": "raw",
   "id": "79bdf1fd",
   "metadata": {},
   "source": [
    "values.yaml"
   ]
  },
  {
   "cell_type": "code",
   "execution_count": null,
   "id": "3cabcc40",
   "metadata": {},
   "outputs": [],
   "source": [
    "webapp:\n",
    "  numberofWebAppReplicas: 4"
   ]
  },
  {
   "cell_type": "code",
   "execution_count": null,
   "id": "0bff76eb",
   "metadata": {},
   "outputs": [],
   "source": [
    "helm template . "
   ]
  },
  {
   "cell_type": "raw",
   "id": "4fe2fa59",
   "metadata": {},
   "source": [
    "set 會優先"
   ]
  },
  {
   "cell_type": "code",
   "execution_count": null,
   "id": "a6e4b0f5",
   "metadata": {},
   "outputs": [],
   "source": [
    "helm template . --set webapp.numberofWebAppReplicas=127"
   ]
  },
  {
   "cell_type": "code",
   "execution_count": null,
   "id": "42870d10",
   "metadata": {},
   "outputs": [],
   "source": []
  }
 ],
 "metadata": {
  "kernelspec": {
   "display_name": "Python 3 (ipykernel)",
   "language": "python",
   "name": "python3"
  },
  "language_info": {
   "codemirror_mode": {
    "name": "ipython",
    "version": 3
   },
   "file_extension": ".py",
   "mimetype": "text/x-python",
   "name": "python",
   "nbconvert_exporter": "python",
   "pygments_lexer": "ipython3",
   "version": "3.9.6"
  }
 },
 "nbformat": 4,
 "nbformat_minor": 5
}

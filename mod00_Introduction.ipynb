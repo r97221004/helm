{
 "cells": [
  {
   "cell_type": "raw",
   "id": "fdd46541",
   "metadata": {},
   "source": [
    "前面參數是 repo 的 label"
   ]
  },
  {
   "cell_type": "code",
   "execution_count": null,
   "id": "08e0f576",
   "metadata": {},
   "outputs": [],
   "source": [
    "helm repo add bitnami https://charts.bitnami.com/bitnami"
   ]
  },
  {
   "cell_type": "raw",
   "id": "9366775b",
   "metadata": {},
   "source": [
    "前面參數會變成 k8s 服務的前綴"
   ]
  },
  {
   "cell_type": "code",
   "execution_count": null,
   "id": "98222712",
   "metadata": {},
   "outputs": [],
   "source": [
    "helm install mysql bitnami/mysql"
   ]
  },
  {
   "cell_type": "markdown",
   "id": "c7635a2b",
   "metadata": {},
   "source": [
    "---"
   ]
  },
  {
   "cell_type": "code",
   "execution_count": null,
   "id": "8fffd545",
   "metadata": {},
   "outputs": [],
   "source": [
    "kubectl get pods -A"
   ]
  },
  {
   "cell_type": "code",
   "execution_count": null,
   "id": "c7219f29",
   "metadata": {},
   "outputs": [],
   "source": [
    "kubectl get all"
   ]
  },
  {
   "cell_type": "code",
   "execution_count": null,
   "id": "0b1b9ec8",
   "metadata": {},
   "outputs": [],
   "source": [
    "helm list"
   ]
  },
  {
   "cell_type": "markdown",
   "id": "941907f5",
   "metadata": {},
   "source": [
    "---"
   ]
  },
  {
   "cell_type": "code",
   "execution_count": null,
   "id": "83a8984b",
   "metadata": {},
   "outputs": [],
   "source": [
    "helm uninstall mysql"
   ]
  },
  {
   "cell_type": "code",
   "execution_count": null,
   "id": "3ef51973",
   "metadata": {},
   "outputs": [],
   "source": [
    "kubectl get all"
   ]
  },
  {
   "cell_type": "code",
   "execution_count": null,
   "id": "2a28272f",
   "metadata": {},
   "outputs": [],
   "source": [
    "helm list"
   ]
  },
  {
   "cell_type": "code",
   "execution_count": null,
   "id": "97249714",
   "metadata": {},
   "outputs": [],
   "source": [
    "helm repo list"
   ]
  }
 ],
 "metadata": {
  "kernelspec": {
   "display_name": "Python 3",
   "language": "python",
   "name": "python3"
  },
  "language_info": {
   "codemirror_mode": {
    "name": "ipython",
    "version": 3
   },
   "file_extension": ".py",
   "mimetype": "text/x-python",
   "name": "python",
   "nbconvert_exporter": "python",
   "pygments_lexer": "ipython3",
   "version": "3.8.10"
  }
 },
 "nbformat": 4,
 "nbformat_minor": 5
}
